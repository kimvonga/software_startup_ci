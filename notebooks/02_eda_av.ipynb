{
 "cells": [
  {
   "cell_type": "markdown",
   "id": "611e5213-aca7-4583-ad74-3a2ae5440667",
   "metadata": {},
   "source": [
    "## Introduction<a id='introduction'></a>\n",
    "\n",
    "**Purpose:** \\\n",
    "Generate relevant statistics for two sales campaigns, offering tech support and/or a discount to potential customers.\n",
    "\n",
    "Questions to answer:\n",
    "- What type of customers represent the majority of our revenue?\n",
    "- What type of customers are we not targeting very well?\n",
    "- What was the average revenue increase for offering tech support and for offering a discount?\n",
    "- What is the most amount, on average, that can be spent on tech support before losing revenue?\n",
    "- What is the maximum discount that can be offered before losing revenue?\n",
    "- What type of customers are more likely to convert if offered tech support and offered a discount?\n",
    "\n",
    "**Context:** \\\n",
    "A software company ran two sales campaigns, offering tech support and/or a discount to potential customers, and would like to know the impact of the campaigns on increasing the company's revenue. The company also wants to quantify the success or failure of the two campaigns and how should the company re-run the campaign(s) if it chooses to do so. \n",
    "\n",
    "**Data:** \\\n",
    "Data comes from [Kaggle](https://www.kaggle.com/datasets/hwwang98/software-usage-promotion-campaign-uplift-model)\n",
    "\n",
    "From data card, columns are\n",
    "1) Global Flag: Whether customer has global offices\n",
    "2) Major Flag: Whether customer is a large customer in their industry (as opposed to small medium corporation)\n",
    "3) SMC Flag: Whether customer is small medium corporation\n",
    "4) Commercial Flag: Whether the customer's business is commercial as opposed to public sector\n",
    "5) IT Spend: (\\$) spent on IT-related purchases\n",
    "6) Employee Count: Number of employees\n",
    "7) PC Count: number of PCs used by the customer\n",
    "8) Size: Customer's size given their yearly revenue\n",
    "9) Tech Support: (treatment; binary) whether customer received tech support\n",
    "10) Discount: (treatment; binary) whether customer was given a discount\n",
    "11) Revenue: (outcome; \\$) revenue from customer\n",
    "\n",
    "**Outcomes from Data Wrangling:** \n",
    "1) Data is balanced with $\\approx$ 500 customers for each treatment variable.\n",
    "2) Data can potentially be organized into 4 clusters through K-means and according to elbow method, but silhouette score does not strongly support clustering. \n",
    "3) Raw data is clean and does not need processing.\n",
    "4) IT Spend, Employee Count, PC Count, and Size are all exponentially distributed"
   ]
  },
  {
   "cell_type": "markdown",
   "id": "6ab78d47-3fed-47aa-8dd8-77ef1745a91d",
   "metadata": {},
   "source": [
    "## Contents<a id='contents'></a> \n",
    "\n",
    "* [Introduction](#introduction)\n",
    "* [Contents](#contents)\n",
    "* [Objectives](#objectives)\n",
    "* [Average Gain from Tech Support and Discount](#average_gain_tech_support_discount)\n",
    "* [Coarse Customer Profiling](#coarse_customer_profiling)"
   ]
  },
  {
   "cell_type": "markdown",
   "id": "34f9caa4-e6e7-4549-a019-d9100770037d",
   "metadata": {},
   "source": [
    "## Objectives <a id='objectives'></a>\n",
    "\n",
    "Better understand our customers by answering the following questions:\n",
    "- What type of customers represent the majority of our revenue?\n",
    "    - Tend to be much larger companies. \n",
    "- What type of customers are we not targeting very well?\n",
    "    - Can't answer directly with given data.\n",
    "    - However, sales teams should focus on landing larger companies as they contribute more to revenue. \n",
    "        - They are also more likely to convert by offering tech support and a discount (sales efforts less likely to be wasted)\n",
    "- What was the average revenue increase for offering tech support and for offering a discount?\n",
    "    - For tech support only: 8518.22 $\\pm$ 6355.26\n",
    "    - For discount only: 5662.05 $\\pm$ 8185.68\n",
    "    - For both tech support and discount: 20198.23 $\\pm$ 13536.51\n",
    "- What is the most amount, on average, that can be spent on tech support before losing revenue?\n",
    "    - If offered to all customers, at most can spend 12117.15 on tech support\n",
    "- What is the maximum discount that can be offered before losing revenue?\n",
    "    - If offered to all customers, the largest discount is 9387.25 on average\n",
    "- What type of customers are more likely to convert if offered tech support and offered a discount?\n",
    "    - See above"
   ]
  },
  {
   "cell_type": "code",
   "execution_count": 120,
   "id": "69dc3e10-3bd9-4dee-ba53-90bdfefa0ff5",
   "metadata": {
    "tags": []
   },
   "outputs": [],
   "source": [
    "import numpy as np\n",
    "import pandas as pd\n",
    "import matplotlib.pyplot as plt\n",
    "import seaborn as sns\n",
    "from scipy import stats"
   ]
  },
  {
   "cell_type": "code",
   "execution_count": 2,
   "id": "6189fece-6c88-49d2-a193-58b0d542be59",
   "metadata": {},
   "outputs": [],
   "source": [
    "df = pd.read_csv('../data/raw/multi_attribution_sample.csv')"
   ]
  },
  {
   "cell_type": "markdown",
   "id": "8fb20357-2c68-4987-a34e-97683dcf03b8",
   "metadata": {
    "jp-MarkdownHeadingCollapsed": true,
    "tags": []
   },
   "source": [
    "## Average Gain from Tech Support and Discount <a id='average_gain_tech_support_discount'></a>"
   ]
  },
  {
   "cell_type": "code",
   "execution_count": 20,
   "id": "93e0d275-dd7d-4137-ae74-730e518bb010",
   "metadata": {
    "tags": []
   },
   "outputs": [
    {
     "name": "stdout",
     "output_type": "stream",
     "text": [
      "mean, std revenue without tech support: 9302.99, 6372.64\n"
     ]
    }
   ],
   "source": [
    "my_bool = 0\n",
    "my_array = df[df['Tech Support'] == my_bool]['Revenue']\n",
    "print('mean, std revenue without tech support: {:.2f}, {:.2f}'.format(np.mean(my_array), np.std(my_array)))"
   ]
  },
  {
   "cell_type": "code",
   "execution_count": 19,
   "id": "bcd51828-8107-46cc-b346-7261c3b1e36b",
   "metadata": {},
   "outputs": [
    {
     "name": "stdout",
     "output_type": "stream",
     "text": [
      "mean, std revenue with tech support: 21420.14, 11841.67\n"
     ]
    }
   ],
   "source": [
    "my_bool = 1\n",
    "my_array = df[df['Tech Support'] == my_bool]['Revenue']\n",
    "print('mean, std revenue with tech support: {:.2f}, {:.2f}'.format(np.mean(my_array), np.std(my_array)))"
   ]
  },
  {
   "cell_type": "code",
   "execution_count": 22,
   "id": "c76cb94f-4ed5-4de9-8e4b-fe78b0eb9066",
   "metadata": {
    "tags": []
   },
   "outputs": [
    {
     "name": "stdout",
     "output_type": "stream",
     "text": [
      "mean, std revenue without discount: 10605.73, 6146.31\n"
     ]
    }
   ],
   "source": [
    "my_bool = 0\n",
    "my_array = df[df['Discount'] == my_bool]['Revenue']\n",
    "print('mean, std revenue without discount: {:.2f}, {:.2f}'.format(np.mean(my_array), np.std(my_array)))"
   ]
  },
  {
   "cell_type": "code",
   "execution_count": 23,
   "id": "e00c069e-6140-4d0d-801c-a0680abc0848",
   "metadata": {
    "tags": []
   },
   "outputs": [
    {
     "name": "stdout",
     "output_type": "stream",
     "text": [
      "mean, std revenue with discount: 19992.98, 13047.75\n"
     ]
    }
   ],
   "source": [
    "my_bool = 1\n",
    "my_array = df[df['Discount'] == my_bool]['Revenue']\n",
    "print('mean, std revenue with discount: {:.2f}, {:.2f}'.format(np.mean(my_array), np.std(my_array)))"
   ]
  },
  {
   "cell_type": "code",
   "execution_count": null,
   "id": "63a5c9e7-bdc3-4497-a013-9dee581307f7",
   "metadata": {},
   "outputs": [],
   "source": []
  },
  {
   "cell_type": "code",
   "execution_count": 30,
   "id": "a31c7ac5-8790-4e22-901c-36e3123aa7e9",
   "metadata": {
    "tags": []
   },
   "outputs": [
    {
     "name": "stdout",
     "output_type": "stream",
     "text": [
      "mean, std revenue without tech support and without discount: 6585.89, 3359.91\n"
     ]
    }
   ],
   "source": [
    "my_bool1, my_bool2 = (0, 0)\n",
    "my_array = df[(df['Tech Support'] == my_bool1) & (df['Discount'] == my_bool2)]['Revenue']\n",
    "print('mean, std revenue without tech support and without discount: {:.2f}, {:.2f}'.format(np.mean(my_array), np.std(my_array)))"
   ]
  },
  {
   "cell_type": "code",
   "execution_count": 31,
   "id": "6abea436-5594-4954-b92c-81d907a1b503",
   "metadata": {
    "tags": []
   },
   "outputs": [
    {
     "name": "stdout",
     "output_type": "stream",
     "text": [
      "mean, std revenue with tech support and without discount: 15104.11, 5394.47\n"
     ]
    }
   ],
   "source": [
    "my_bool1, my_bool2 = (1, 0)\n",
    "my_array = df[(df['Tech Support'] == my_bool1) & (df['Discount'] == my_bool2)]['Revenue']\n",
    "print('mean, std revenue with tech support and without discount: {:.2f}, {:.2f}'.format(np.mean(my_array), np.std(my_array)))"
   ]
  },
  {
   "cell_type": "code",
   "execution_count": 32,
   "id": "675accc1-ccb8-4ba9-ae40-0697cdd2228d",
   "metadata": {
    "tags": []
   },
   "outputs": [
    {
     "name": "stdout",
     "output_type": "stream",
     "text": [
      "mean, std revenue without tech support and with discount: 12247.94, 7464.34\n"
     ]
    }
   ],
   "source": [
    "my_bool1, my_bool2 = (0, 1)\n",
    "my_array = df[(df['Tech Support'] == my_bool1) & (df['Discount'] == my_bool2)]['Revenue']\n",
    "print('mean, std revenue without tech support and with discount: {:.2f}, {:.2f}'.format(np.mean(my_array), np.std(my_array)))"
   ]
  },
  {
   "cell_type": "code",
   "execution_count": 33,
   "id": "bac1a71e-ff26-4eb1-ad33-d0ab0e6cb0c4",
   "metadata": {
    "tags": []
   },
   "outputs": [
    {
     "name": "stdout",
     "output_type": "stream",
     "text": [
      "mean, std revenue with tech support and with discount: 26784.12, 13112.90\n"
     ]
    }
   ],
   "source": [
    "my_bool1, my_bool2 = (1, 1)\n",
    "my_array = df[(df['Tech Support'] == my_bool1) & (df['Discount'] == my_bool2)]['Revenue']\n",
    "print('mean, std revenue with tech support and with discount: {:.2f}, {:.2f}'.format(np.mean(my_array), np.std(my_array)))"
   ]
  },
  {
   "cell_type": "code",
   "execution_count": 34,
   "id": "27a469e4-6449-41fb-aa36-aef5ab3df7e6",
   "metadata": {
    "tags": []
   },
   "outputs": [
    {
     "name": "stdout",
     "output_type": "stream",
     "text": [
      "8518.220000000001 6355.25780665112\n"
     ]
    }
   ],
   "source": [
    "print(15104.11 - 6585.89, np.sqrt(5394.47**2 + 3359.91**2))"
   ]
  },
  {
   "cell_type": "code",
   "execution_count": 35,
   "id": "655ac34f-80fe-47a7-b90e-3432a522779c",
   "metadata": {
    "tags": []
   },
   "outputs": [
    {
     "name": "stdout",
     "output_type": "stream",
     "text": [
      "5662.05 8185.6805974640865\n"
     ]
    }
   ],
   "source": [
    "print(12247.94 - 6585.89, np.sqrt(7464.34**2 + 3359.91**2))"
   ]
  },
  {
   "cell_type": "code",
   "execution_count": 36,
   "id": "7f081f5a-412f-45c9-a30f-89d0bdeb5a3e",
   "metadata": {
    "tags": []
   },
   "outputs": [
    {
     "name": "stdout",
     "output_type": "stream",
     "text": [
      "20198.23 13536.51142717724\n"
     ]
    }
   ],
   "source": [
    "print(26784.12 - 6585.89, np.sqrt(13112.90**2 + 3359.91**2))"
   ]
  },
  {
   "cell_type": "markdown",
   "id": "ed73f3a5-9e3f-4a8c-b5b2-5db4e4c1f49e",
   "metadata": {
    "tags": []
   },
   "source": [
    "## Coarse Customer Profiling <a id='coarse_customer_profiling'></a>"
   ]
  },
  {
   "cell_type": "code",
   "execution_count": 11,
   "id": "5ce0f41a-6c64-4fd5-a965-11fcb30c0434",
   "metadata": {},
   "outputs": [
    {
     "name": "stderr",
     "output_type": "stream",
     "text": [
      "C:\\Users\\kimvo\\AppData\\Local\\Temp\\ipykernel_8844\\3951250099.py:2: MatplotlibDeprecationWarning: Auto-removal of overlapping axes is deprecated since 3.6 and will be removed two minor releases later; explicitly call ax.remove() as needed.\n",
      "  plt.subplot(2,2,1)\n"
     ]
    },
    {
     "data": {
      "image/png": "[encoded data removed]",
      "text/plain": [
       "<Figure size 1000x500 with 4 Axes>"
      ]
     },
     "metadata": {},
     "output_type": "display_data"
    }
   ],
   "source": [
    "plt.subplots(figsize=(10,5))\n",
    "plt.subplot(2,2,1)\n",
    "sns.ecdfplot(data=df, x='IT Spend')\n",
    "plt.subplot(2,2,2)\n",
    "sns.ecdfplot(data=df, x='Employee Count')\n",
    "plt.subplot(2,2,3)\n",
    "sns.ecdfplot(data=df, x='PC Count')\n",
    "plt.subplot(2,2,4)\n",
    "sns.ecdfplot(data=df/1000, x='Size')\n",
    "plt.xlabel('Size by Yearly Revenue (in thousands)')\n",
    "plt.tight_layout()"
   ]
  },
  {
   "cell_type": "code",
   "execution_count": 111,
   "id": "ac3287b8-2c38-42eb-8697-c7d4856565e0",
   "metadata": {
    "tags": []
   },
   "outputs": [],
   "source": [
    "rev_cumsum = np.cumsum(np.sort(df['Revenue']))\n",
    "rev_cumsum /= 1000"
   ]
  },
  {
   "cell_type": "code",
   "execution_count": 103,
   "id": "23b2b3b6-d069-400a-bd53-ebdd8ff61254",
   "metadata": {
    "tags": []
   },
   "outputs": [
    {
     "data": {
      "text/plain": [
       "array([ -616.5724513,   374.4919543,   427.6482735, ..., 70405.60593  ,\n",
       "       77528.81537  , 86006.92445  ])"
      ]
     },
     "execution_count": 103,
     "metadata": {},
     "output_type": "execute_result"
    }
   ],
   "source": [
    "np.sort(df['Revenue'])"
   ]
  },
  {
   "cell_type": "code",
   "execution_count": 112,
   "id": "8b7a6715-8231-4a04-ae60-ac782941cf6d",
   "metadata": {
    "tags": []
   },
   "outputs": [
    {
     "data": {
      "text/plain": [
       "Text(0.5, 0, 'Revenue from Customer')"
      ]
     },
     "execution_count": 112,
     "metadata": {},
     "output_type": "execute_result"
    },
    {
     "data": {
      "image/png": "[encoded data removed]",
      "text/plain": [
       "<Figure size 640x480 with 1 Axes>"
      ]
     },
     "metadata": {},
     "output_type": "display_data"
    }
   ],
   "source": [
    "plt.plot(np.sort(df['Revenue']), rev_cumsum)\n",
    "plt.ylabel('Cumulative Sum of Revenue (in Thousands)')\n",
    "plt.xlabel('Revenue from Customer')"
   ]
  },
  {
   "cell_type": "code",
   "execution_count": 108,
   "id": "82fb07f5-50ce-4c52-93f9-b054c4d51a7b",
   "metadata": {
    "tags": []
   },
   "outputs": [
    {
     "data": {
      "text/plain": [
       "array([0.0791814 , 0.2404822 , 0.49686869])"
      ]
     },
     "execution_count": 108,
     "metadata": {},
     "output_type": "execute_result"
    }
   ],
   "source": [
    "np.quantile(rev_cumsum, [0.25, 0.5, 0.75])"
   ]
  },
  {
   "cell_type": "markdown",
   "id": "9da58add-8734-44d3-9171-cad5bb6c2ed7",
   "metadata": {},
   "source": [
    "Top 25% of customers contribute 50% of revenue \\\n",
    "(Revenue threshold for top 25% is 19666) \\\n",
    "Top 50% of customers contribute 75% of revenue \\\n",
    "(Revenue threshold for top 50% is 12597) \\\n",
    "Bottom 25% of customers contribute 8% of revenue \\\n",
    "(Revenue threshold for bottom 25% is 7548) \\\n",
    "Customers between 25% and 75% quantile contribute 42% of revenue \\\n",
    "(Revenues between 7548 and 19666)"
   ]
  },
  {
   "cell_type": "code",
   "execution_count": 118,
   "id": "b43ee313-6912-436f-a3e9-7c6968cca82e",
   "metadata": {
    "tags": []
   },
   "outputs": [
    {
     "data": {
      "text/html": [
       "<div>\n",
       "<style scoped>\n",
       "    .dataframe tbody tr th:only-of-type {\n",
       "        vertical-align: middle;\n",
       "    }\n",
       "\n",
       "    .dataframe tbody tr th {\n",
       "        vertical-align: top;\n",
       "    }\n",
       "\n",
       "    .dataframe thead th {\n",
       "        text-align: right;\n",
       "    }\n",
       "</style>\n",
       "<table border=\"1\" class=\"dataframe\">\n",
       "  <thead>\n",
       "    <tr style=\"text-align: right;\">\n",
       "      <th></th>\n",
       "      <th>Global Flag</th>\n",
       "      <th>Major Flag</th>\n",
       "      <th>SMC Flag</th>\n",
       "      <th>Commercial Flag</th>\n",
       "      <th>IT Spend</th>\n",
       "      <th>Employee Count</th>\n",
       "      <th>PC Count</th>\n",
       "      <th>Size</th>\n",
       "      <th>Tech Support</th>\n",
       "      <th>Discount</th>\n",
       "      <th>Revenue</th>\n",
       "    </tr>\n",
       "  </thead>\n",
       "  <tbody>\n",
       "    <tr>\n",
       "      <th>count</th>\n",
       "      <td>500.000000</td>\n",
       "      <td>500.00000</td>\n",
       "      <td>500.000000</td>\n",
       "      <td>500.000000</td>\n",
       "      <td>500.000000</td>\n",
       "      <td>500.00000</td>\n",
       "      <td>500.000000</td>\n",
       "      <td>500.000000</td>\n",
       "      <td>500.00000</td>\n",
       "      <td>500.000000</td>\n",
       "      <td>500.000000</td>\n",
       "    </tr>\n",
       "    <tr>\n",
       "      <th>mean</th>\n",
       "      <td>0.272000</td>\n",
       "      <td>0.22400</td>\n",
       "      <td>0.474000</td>\n",
       "      <td>0.694000</td>\n",
       "      <td>59311.924000</td>\n",
       "      <td>78.74800</td>\n",
       "      <td>75.546000</td>\n",
       "      <td>236471.474000</td>\n",
       "      <td>0.84800</td>\n",
       "      <td>0.836000</td>\n",
       "      <td>30998.530583</td>\n",
       "    </tr>\n",
       "    <tr>\n",
       "      <th>std</th>\n",
       "      <td>0.445436</td>\n",
       "      <td>0.41734</td>\n",
       "      <td>0.499824</td>\n",
       "      <td>0.461291</td>\n",
       "      <td>34756.169255</td>\n",
       "      <td>70.55898</td>\n",
       "      <td>70.817923</td>\n",
       "      <td>111113.789979</td>\n",
       "      <td>0.35938</td>\n",
       "      <td>0.370646</td>\n",
       "      <td>10798.228235</td>\n",
       "    </tr>\n",
       "    <tr>\n",
       "      <th>min</th>\n",
       "      <td>0.000000</td>\n",
       "      <td>0.00000</td>\n",
       "      <td>0.000000</td>\n",
       "      <td>0.000000</td>\n",
       "      <td>2810.000000</td>\n",
       "      <td>10.00000</td>\n",
       "      <td>7.000000</td>\n",
       "      <td>15503.000000</td>\n",
       "      <td>0.00000</td>\n",
       "      <td>0.000000</td>\n",
       "      <td>19666.703390</td>\n",
       "    </tr>\n",
       "    <tr>\n",
       "      <th>25%</th>\n",
       "      <td>0.000000</td>\n",
       "      <td>0.00000</td>\n",
       "      <td>0.000000</td>\n",
       "      <td>0.000000</td>\n",
       "      <td>34974.000000</td>\n",
       "      <td>28.00000</td>\n",
       "      <td>25.000000</td>\n",
       "      <td>156610.000000</td>\n",
       "      <td>1.00000</td>\n",
       "      <td>1.000000</td>\n",
       "      <td>22808.162660</td>\n",
       "    </tr>\n",
       "    <tr>\n",
       "      <th>50%</th>\n",
       "      <td>0.000000</td>\n",
       "      <td>0.00000</td>\n",
       "      <td>0.000000</td>\n",
       "      <td>1.000000</td>\n",
       "      <td>52176.000000</td>\n",
       "      <td>58.00000</td>\n",
       "      <td>52.000000</td>\n",
       "      <td>224538.000000</td>\n",
       "      <td>1.00000</td>\n",
       "      <td>1.000000</td>\n",
       "      <td>28147.523220</td>\n",
       "    </tr>\n",
       "    <tr>\n",
       "      <th>75%</th>\n",
       "      <td>1.000000</td>\n",
       "      <td>0.00000</td>\n",
       "      <td>1.000000</td>\n",
       "      <td>1.000000</td>\n",
       "      <td>74844.500000</td>\n",
       "      <td>106.25000</td>\n",
       "      <td>99.000000</td>\n",
       "      <td>288459.750000</td>\n",
       "      <td>1.00000</td>\n",
       "      <td>1.000000</td>\n",
       "      <td>36389.555768</td>\n",
       "    </tr>\n",
       "    <tr>\n",
       "      <th>max</th>\n",
       "      <td>1.000000</td>\n",
       "      <td>1.00000</td>\n",
       "      <td>1.000000</td>\n",
       "      <td>1.000000</td>\n",
       "      <td>259808.000000</td>\n",
       "      <td>535.00000</td>\n",
       "      <td>407.000000</td>\n",
       "      <td>766485.000000</td>\n",
       "      <td>1.00000</td>\n",
       "      <td>1.000000</td>\n",
       "      <td>86006.924450</td>\n",
       "    </tr>\n",
       "  </tbody>\n",
       "</table>\n",
       "</div>"
      ],
      "text/plain": [
       "       Global Flag  Major Flag    SMC Flag  Commercial Flag       IT Spend  \\\n",
       "count   500.000000   500.00000  500.000000       500.000000     500.000000   \n",
       "mean      0.272000     0.22400    0.474000         0.694000   59311.924000   \n",
       "std       0.445436     0.41734    0.499824         0.461291   34756.169255   \n",
       "min       0.000000     0.00000    0.000000         0.000000    2810.000000   \n",
       "25%       0.000000     0.00000    0.000000         0.000000   34974.000000   \n",
       "50%       0.000000     0.00000    0.000000         1.000000   52176.000000   \n",
       "75%       1.000000     0.00000    1.000000         1.000000   74844.500000   \n",
       "max       1.000000     1.00000    1.000000         1.000000  259808.000000   \n",
       "\n",
       "       Employee Count    PC Count           Size  Tech Support    Discount  \\\n",
       "count       500.00000  500.000000     500.000000     500.00000  500.000000   \n",
       "mean         78.74800   75.546000  236471.474000       0.84800    0.836000   \n",
       "std          70.55898   70.817923  111113.789979       0.35938    0.370646   \n",
       "min          10.00000    7.000000   15503.000000       0.00000    0.000000   \n",
       "25%          28.00000   25.000000  156610.000000       1.00000    1.000000   \n",
       "50%          58.00000   52.000000  224538.000000       1.00000    1.000000   \n",
       "75%         106.25000   99.000000  288459.750000       1.00000    1.000000   \n",
       "max         535.00000  407.000000  766485.000000       1.00000    1.000000   \n",
       "\n",
       "            Revenue  \n",
       "count    500.000000  \n",
       "mean   30998.530583  \n",
       "std    10798.228235  \n",
       "min    19666.703390  \n",
       "25%    22808.162660  \n",
       "50%    28147.523220  \n",
       "75%    36389.555768  \n",
       "max    86006.924450  "
      ]
     },
     "execution_count": 118,
     "metadata": {},
     "output_type": "execute_result"
    }
   ],
   "source": [
    "# description of top 25%\n",
    "df[df['Revenue'] > 19666].describe()"
   ]
  },
  {
   "cell_type": "code",
   "execution_count": 126,
   "id": "5a42186a-cd4d-4545-97cc-9b62c01a73eb",
   "metadata": {
    "tags": []
   },
   "outputs": [
    {
     "name": "stdout",
     "output_type": "stream",
     "text": [
      "Percentile of IT Spend : 88.00\n",
      "Percentile of Employee Count : 74.70\n",
      "Percentile of PC Count : 75.95\n",
      "Percentile of Size : 88.05\n"
     ]
    }
   ],
   "source": [
    "# percentiles for top 25%\n",
    "print('Percentile of IT Spend : {:.2f}'.format(stats.percentileofscore(df['IT Spend'], 59312)))\n",
    "print('Percentile of Employee Count : {:.2f}'.format(stats.percentileofscore(df['Employee Count'], 78.75)))\n",
    "print('Percentile of PC Count : {:.2f}'.format(stats.percentileofscore(df['PC Count'], 75.55)))\n",
    "print('Percentile of Size : {:.2f}'.format(stats.percentileofscore(df['Size'], 236471)))"
   ]
  },
  {
   "cell_type": "code",
   "execution_count": 129,
   "id": "1679c5d8-ea3a-447d-8ff3-0aabfcf8ecc4",
   "metadata": {
    "tags": []
   },
   "outputs": [
    {
     "data": {
      "text/html": [
       "<div>\n",
       "<style scoped>\n",
       "    .dataframe tbody tr th:only-of-type {\n",
       "        vertical-align: middle;\n",
       "    }\n",
       "\n",
       "    .dataframe tbody tr th {\n",
       "        vertical-align: top;\n",
       "    }\n",
       "\n",
       "    .dataframe thead th {\n",
       "        text-align: right;\n",
       "    }\n",
       "</style>\n",
       "<table border=\"1\" class=\"dataframe\">\n",
       "  <thead>\n",
       "    <tr style=\"text-align: right;\">\n",
       "      <th></th>\n",
       "      <th>Global Flag</th>\n",
       "      <th>Major Flag</th>\n",
       "      <th>SMC Flag</th>\n",
       "      <th>Commercial Flag</th>\n",
       "      <th>IT Spend</th>\n",
       "      <th>Employee Count</th>\n",
       "      <th>PC Count</th>\n",
       "      <th>Size</th>\n",
       "      <th>Tech Support</th>\n",
       "      <th>Discount</th>\n",
       "      <th>Revenue</th>\n",
       "    </tr>\n",
       "  </thead>\n",
       "  <tbody>\n",
       "    <tr>\n",
       "      <th>count</th>\n",
       "      <td>1000.000000</td>\n",
       "      <td>1000.000000</td>\n",
       "      <td>1000.000000</td>\n",
       "      <td>1000.000000</td>\n",
       "      <td>1000.000000</td>\n",
       "      <td>1000.000000</td>\n",
       "      <td>1000.000000</td>\n",
       "      <td>1000.000000</td>\n",
       "      <td>1000.000000</td>\n",
       "      <td>1000.000000</td>\n",
       "      <td>1000.000000</td>\n",
       "    </tr>\n",
       "    <tr>\n",
       "      <th>mean</th>\n",
       "      <td>0.265000</td>\n",
       "      <td>0.238000</td>\n",
       "      <td>0.470000</td>\n",
       "      <td>0.701000</td>\n",
       "      <td>42250.272000</td>\n",
       "      <td>73.314000</td>\n",
       "      <td>69.898000</td>\n",
       "      <td>169581.504000</td>\n",
       "      <td>0.789000</td>\n",
       "      <td>0.678000</td>\n",
       "      <td>23396.283653</td>\n",
       "    </tr>\n",
       "    <tr>\n",
       "      <th>std</th>\n",
       "      <td>0.441554</td>\n",
       "      <td>0.426072</td>\n",
       "      <td>0.499349</td>\n",
       "      <td>0.458049</td>\n",
       "      <td>32416.270157</td>\n",
       "      <td>63.283728</td>\n",
       "      <td>63.449077</td>\n",
       "      <td>110575.977529</td>\n",
       "      <td>0.408223</td>\n",
       "      <td>0.467477</td>\n",
       "      <td>10868.077288</td>\n",
       "    </tr>\n",
       "    <tr>\n",
       "      <th>min</th>\n",
       "      <td>0.000000</td>\n",
       "      <td>0.000000</td>\n",
       "      <td>0.000000</td>\n",
       "      <td>0.000000</td>\n",
       "      <td>1855.000000</td>\n",
       "      <td>10.000000</td>\n",
       "      <td>6.000000</td>\n",
       "      <td>10540.000000</td>\n",
       "      <td>0.000000</td>\n",
       "      <td>0.000000</td>\n",
       "      <td>12597.961290</td>\n",
       "    </tr>\n",
       "    <tr>\n",
       "      <th>25%</th>\n",
       "      <td>0.000000</td>\n",
       "      <td>0.000000</td>\n",
       "      <td>0.000000</td>\n",
       "      <td>0.000000</td>\n",
       "      <td>19408.000000</td>\n",
       "      <td>27.750000</td>\n",
       "      <td>25.000000</td>\n",
       "      <td>89125.000000</td>\n",
       "      <td>1.000000</td>\n",
       "      <td>0.000000</td>\n",
       "      <td>15668.741255</td>\n",
       "    </tr>\n",
       "    <tr>\n",
       "      <th>50%</th>\n",
       "      <td>0.000000</td>\n",
       "      <td>0.000000</td>\n",
       "      <td>0.000000</td>\n",
       "      <td>1.000000</td>\n",
       "      <td>34754.500000</td>\n",
       "      <td>54.000000</td>\n",
       "      <td>49.000000</td>\n",
       "      <td>147480.500000</td>\n",
       "      <td>1.000000</td>\n",
       "      <td>1.000000</td>\n",
       "      <td>19664.220780</td>\n",
       "    </tr>\n",
       "    <tr>\n",
       "      <th>75%</th>\n",
       "      <td>1.000000</td>\n",
       "      <td>0.000000</td>\n",
       "      <td>1.000000</td>\n",
       "      <td>1.000000</td>\n",
       "      <td>56033.500000</td>\n",
       "      <td>99.000000</td>\n",
       "      <td>94.000000</td>\n",
       "      <td>228267.250000</td>\n",
       "      <td>1.000000</td>\n",
       "      <td>1.000000</td>\n",
       "      <td>28147.140180</td>\n",
       "    </tr>\n",
       "    <tr>\n",
       "      <th>max</th>\n",
       "      <td>1.000000</td>\n",
       "      <td>1.000000</td>\n",
       "      <td>1.000000</td>\n",
       "      <td>1.000000</td>\n",
       "      <td>259808.000000</td>\n",
       "      <td>535.000000</td>\n",
       "      <td>407.000000</td>\n",
       "      <td>766485.000000</td>\n",
       "      <td>1.000000</td>\n",
       "      <td>1.000000</td>\n",
       "      <td>86006.924450</td>\n",
       "    </tr>\n",
       "  </tbody>\n",
       "</table>\n",
       "</div>"
      ],
      "text/plain": [
       "       Global Flag   Major Flag     SMC Flag  Commercial Flag       IT Spend  \\\n",
       "count  1000.000000  1000.000000  1000.000000      1000.000000    1000.000000   \n",
       "mean      0.265000     0.238000     0.470000         0.701000   42250.272000   \n",
       "std       0.441554     0.426072     0.499349         0.458049   32416.270157   \n",
       "min       0.000000     0.000000     0.000000         0.000000    1855.000000   \n",
       "25%       0.000000     0.000000     0.000000         0.000000   19408.000000   \n",
       "50%       0.000000     0.000000     0.000000         1.000000   34754.500000   \n",
       "75%       1.000000     0.000000     1.000000         1.000000   56033.500000   \n",
       "max       1.000000     1.000000     1.000000         1.000000  259808.000000   \n",
       "\n",
       "       Employee Count     PC Count           Size  Tech Support     Discount  \\\n",
       "count     1000.000000  1000.000000    1000.000000   1000.000000  1000.000000   \n",
       "mean        73.314000    69.898000  169581.504000      0.789000     0.678000   \n",
       "std         63.283728    63.449077  110575.977529      0.408223     0.467477   \n",
       "min         10.000000     6.000000   10540.000000      0.000000     0.000000   \n",
       "25%         27.750000    25.000000   89125.000000      1.000000     0.000000   \n",
       "50%         54.000000    49.000000  147480.500000      1.000000     1.000000   \n",
       "75%         99.000000    94.000000  228267.250000      1.000000     1.000000   \n",
       "max        535.000000   407.000000  766485.000000      1.000000     1.000000   \n",
       "\n",
       "            Revenue  \n",
       "count   1000.000000  \n",
       "mean   23396.283653  \n",
       "std    10868.077288  \n",
       "min    12597.961290  \n",
       "25%    15668.741255  \n",
       "50%    19664.220780  \n",
       "75%    28147.140180  \n",
       "max    86006.924450  "
      ]
     },
     "execution_count": 129,
     "metadata": {},
     "output_type": "execute_result"
    }
   ],
   "source": [
    "# description of top 50%\n",
    "df[df['Revenue'] > 12597].describe()"
   ]
  },
  {
   "cell_type": "code",
   "execution_count": 128,
   "id": "dfcd015d-ec6b-4318-bbad-62293449d9c0",
   "metadata": {
    "tags": []
   },
   "outputs": [
    {
     "name": "stdout",
     "output_type": "stream",
     "text": [
      "Percentile of IT Spend : 78.20\n",
      "Percentile of Employee Count : 71.55\n",
      "Percentile of PC Count : 73.00\n",
      "Percentile of Size : 78.30\n"
     ]
    }
   ],
   "source": [
    "# percentiles for top 50%\n",
    "print('Percentile of IT Spend : {:.2f}'.format(stats.percentileofscore(df['IT Spend'], 42250.3)))\n",
    "print('Percentile of Employee Count : {:.2f}'.format(stats.percentileofscore(df['Employee Count'], 73.31)))\n",
    "print('Percentile of PC Count : {:.2f}'.format(stats.percentileofscore(df['PC Count'], 69.9)))\n",
    "print('Percentile of Size : {:.2f}'.format(stats.percentileofscore(df['Size'], 169581.5)))"
   ]
  },
  {
   "cell_type": "code",
   "execution_count": 132,
   "id": "03d409d8-0bfc-47bc-af8f-9feac6b9324d",
   "metadata": {
    "tags": []
   },
   "outputs": [
    {
     "data": {
      "text/html": [
       "<div>\n",
       "<style scoped>\n",
       "    .dataframe tbody tr th:only-of-type {\n",
       "        vertical-align: middle;\n",
       "    }\n",
       "\n",
       "    .dataframe tbody tr th {\n",
       "        vertical-align: top;\n",
       "    }\n",
       "\n",
       "    .dataframe thead th {\n",
       "        text-align: right;\n",
       "    }\n",
       "</style>\n",
       "<table border=\"1\" class=\"dataframe\">\n",
       "  <thead>\n",
       "    <tr style=\"text-align: right;\">\n",
       "      <th></th>\n",
       "      <th>Global Flag</th>\n",
       "      <th>Major Flag</th>\n",
       "      <th>SMC Flag</th>\n",
       "      <th>Commercial Flag</th>\n",
       "      <th>IT Spend</th>\n",
       "      <th>Employee Count</th>\n",
       "      <th>PC Count</th>\n",
       "      <th>Size</th>\n",
       "      <th>Tech Support</th>\n",
       "      <th>Discount</th>\n",
       "      <th>Revenue</th>\n",
       "    </tr>\n",
       "  </thead>\n",
       "  <tbody>\n",
       "    <tr>\n",
       "      <th>count</th>\n",
       "      <td>1000.00000</td>\n",
       "      <td>1000.000000</td>\n",
       "      <td>1000.000000</td>\n",
       "      <td>1000.000000</td>\n",
       "      <td>1000.000000</td>\n",
       "      <td>1000.000000</td>\n",
       "      <td>1000.000000</td>\n",
       "      <td>1000.000000</td>\n",
       "      <td>1000.000000</td>\n",
       "      <td>1000.000000</td>\n",
       "      <td>1000.000000</td>\n",
       "    </tr>\n",
       "    <tr>\n",
       "      <th>mean</th>\n",
       "      <td>0.13900</td>\n",
       "      <td>0.152000</td>\n",
       "      <td>0.539000</td>\n",
       "      <td>0.681000</td>\n",
       "      <td>14295.134000</td>\n",
       "      <td>48.916000</td>\n",
       "      <td>44.793000</td>\n",
       "      <td>56736.736000</td>\n",
       "      <td>0.217000</td>\n",
       "      <td>0.343000</td>\n",
       "      <td>7399.551190</td>\n",
       "    </tr>\n",
       "    <tr>\n",
       "      <th>std</th>\n",
       "      <td>0.34612</td>\n",
       "      <td>0.359201</td>\n",
       "      <td>0.498726</td>\n",
       "      <td>0.466322</td>\n",
       "      <td>12252.804988</td>\n",
       "      <td>37.601101</td>\n",
       "      <td>35.357634</td>\n",
       "      <td>42506.569675</td>\n",
       "      <td>0.412409</td>\n",
       "      <td>0.474949</td>\n",
       "      <td>2984.553861</td>\n",
       "    </tr>\n",
       "    <tr>\n",
       "      <th>min</th>\n",
       "      <td>0.00000</td>\n",
       "      <td>0.000000</td>\n",
       "      <td>0.000000</td>\n",
       "      <td>0.000000</td>\n",
       "      <td>1161.000000</td>\n",
       "      <td>10.000000</td>\n",
       "      <td>6.000000</td>\n",
       "      <td>10101.000000</td>\n",
       "      <td>0.000000</td>\n",
       "      <td>0.000000</td>\n",
       "      <td>-616.572451</td>\n",
       "    </tr>\n",
       "    <tr>\n",
       "      <th>25%</th>\n",
       "      <td>0.00000</td>\n",
       "      <td>0.000000</td>\n",
       "      <td>0.000000</td>\n",
       "      <td>0.000000</td>\n",
       "      <td>5642.750000</td>\n",
       "      <td>21.750000</td>\n",
       "      <td>19.000000</td>\n",
       "      <td>24525.000000</td>\n",
       "      <td>0.000000</td>\n",
       "      <td>0.000000</td>\n",
       "      <td>5131.940688</td>\n",
       "    </tr>\n",
       "    <tr>\n",
       "      <th>50%</th>\n",
       "      <td>0.00000</td>\n",
       "      <td>0.000000</td>\n",
       "      <td>1.000000</td>\n",
       "      <td>1.000000</td>\n",
       "      <td>10928.000000</td>\n",
       "      <td>38.000000</td>\n",
       "      <td>35.000000</td>\n",
       "      <td>46666.500000</td>\n",
       "      <td>0.000000</td>\n",
       "      <td>0.000000</td>\n",
       "      <td>7542.022624</td>\n",
       "    </tr>\n",
       "    <tr>\n",
       "      <th>75%</th>\n",
       "      <td>0.00000</td>\n",
       "      <td>0.000000</td>\n",
       "      <td>1.000000</td>\n",
       "      <td>1.000000</td>\n",
       "      <td>19088.000000</td>\n",
       "      <td>66.000000</td>\n",
       "      <td>59.000000</td>\n",
       "      <td>76749.500000</td>\n",
       "      <td>0.000000</td>\n",
       "      <td>1.000000</td>\n",
       "      <td>9856.465028</td>\n",
       "    </tr>\n",
       "    <tr>\n",
       "      <th>max</th>\n",
       "      <td>1.00000</td>\n",
       "      <td>1.000000</td>\n",
       "      <td>1.000000</td>\n",
       "      <td>1.000000</td>\n",
       "      <td>88324.000000</td>\n",
       "      <td>279.000000</td>\n",
       "      <td>267.000000</td>\n",
       "      <td>326943.000000</td>\n",
       "      <td>1.000000</td>\n",
       "      <td>1.000000</td>\n",
       "      <td>12566.931590</td>\n",
       "    </tr>\n",
       "  </tbody>\n",
       "</table>\n",
       "</div>"
      ],
      "text/plain": [
       "       Global Flag   Major Flag     SMC Flag  Commercial Flag      IT Spend  \\\n",
       "count   1000.00000  1000.000000  1000.000000      1000.000000   1000.000000   \n",
       "mean       0.13900     0.152000     0.539000         0.681000  14295.134000   \n",
       "std        0.34612     0.359201     0.498726         0.466322  12252.804988   \n",
       "min        0.00000     0.000000     0.000000         0.000000   1161.000000   \n",
       "25%        0.00000     0.000000     0.000000         0.000000   5642.750000   \n",
       "50%        0.00000     0.000000     1.000000         1.000000  10928.000000   \n",
       "75%        0.00000     0.000000     1.000000         1.000000  19088.000000   \n",
       "max        1.00000     1.000000     1.000000         1.000000  88324.000000   \n",
       "\n",
       "       Employee Count     PC Count           Size  Tech Support     Discount  \\\n",
       "count     1000.000000  1000.000000    1000.000000   1000.000000  1000.000000   \n",
       "mean        48.916000    44.793000   56736.736000      0.217000     0.343000   \n",
       "std         37.601101    35.357634   42506.569675      0.412409     0.474949   \n",
       "min         10.000000     6.000000   10101.000000      0.000000     0.000000   \n",
       "25%         21.750000    19.000000   24525.000000      0.000000     0.000000   \n",
       "50%         38.000000    35.000000   46666.500000      0.000000     0.000000   \n",
       "75%         66.000000    59.000000   76749.500000      0.000000     1.000000   \n",
       "max        279.000000   267.000000  326943.000000      1.000000     1.000000   \n",
       "\n",
       "            Revenue  \n",
       "count   1000.000000  \n",
       "mean    7399.551190  \n",
       "std     2984.553861  \n",
       "min     -616.572451  \n",
       "25%     5131.940688  \n",
       "50%     7542.022624  \n",
       "75%     9856.465028  \n",
       "max    12566.931590  "
      ]
     },
     "execution_count": 132,
     "metadata": {},
     "output_type": "execute_result"
    }
   ],
   "source": [
    "# description of bottom 50%\n",
    "df[df['Revenue'] < 12597].describe()"
   ]
  },
  {
   "cell_type": "code",
   "execution_count": 130,
   "id": "be905fa7-4ddd-4194-ba29-38aa7a9c4a80",
   "metadata": {
    "tags": []
   },
   "outputs": [
    {
     "data": {
      "text/html": [
       "<div>\n",
       "<style scoped>\n",
       "    .dataframe tbody tr th:only-of-type {\n",
       "        vertical-align: middle;\n",
       "    }\n",
       "\n",
       "    .dataframe tbody tr th {\n",
       "        vertical-align: top;\n",
       "    }\n",
       "\n",
       "    .dataframe thead th {\n",
       "        text-align: right;\n",
       "    }\n",
       "</style>\n",
       "<table border=\"1\" class=\"dataframe\">\n",
       "  <thead>\n",
       "    <tr style=\"text-align: right;\">\n",
       "      <th></th>\n",
       "      <th>Global Flag</th>\n",
       "      <th>Major Flag</th>\n",
       "      <th>SMC Flag</th>\n",
       "      <th>Commercial Flag</th>\n",
       "      <th>IT Spend</th>\n",
       "      <th>Employee Count</th>\n",
       "      <th>PC Count</th>\n",
       "      <th>Size</th>\n",
       "      <th>Tech Support</th>\n",
       "      <th>Discount</th>\n",
       "      <th>Revenue</th>\n",
       "    </tr>\n",
       "  </thead>\n",
       "  <tbody>\n",
       "    <tr>\n",
       "      <th>count</th>\n",
       "      <td>500.000000</td>\n",
       "      <td>500.000000</td>\n",
       "      <td>500.000000</td>\n",
       "      <td>500.000000</td>\n",
       "      <td>500.000000</td>\n",
       "      <td>500.000000</td>\n",
       "      <td>500.000000</td>\n",
       "      <td>500.000000</td>\n",
       "      <td>500.000000</td>\n",
       "      <td>500.000000</td>\n",
       "      <td>500.000000</td>\n",
       "    </tr>\n",
       "    <tr>\n",
       "      <th>mean</th>\n",
       "      <td>0.052000</td>\n",
       "      <td>0.116000</td>\n",
       "      <td>0.536000</td>\n",
       "      <td>0.658000</td>\n",
       "      <td>11799.978000</td>\n",
       "      <td>41.990000</td>\n",
       "      <td>37.838000</td>\n",
       "      <td>48010.992000</td>\n",
       "      <td>0.038000</td>\n",
       "      <td>0.288000</td>\n",
       "      <td>4865.592306</td>\n",
       "    </tr>\n",
       "    <tr>\n",
       "      <th>std</th>\n",
       "      <td>0.222249</td>\n",
       "      <td>0.320546</td>\n",
       "      <td>0.499202</td>\n",
       "      <td>0.474855</td>\n",
       "      <td>10195.475116</td>\n",
       "      <td>28.643862</td>\n",
       "      <td>26.854163</td>\n",
       "      <td>37369.678343</td>\n",
       "      <td>0.191388</td>\n",
       "      <td>0.453285</td>\n",
       "      <td>1720.109607</td>\n",
       "    </tr>\n",
       "    <tr>\n",
       "      <th>min</th>\n",
       "      <td>0.000000</td>\n",
       "      <td>0.000000</td>\n",
       "      <td>0.000000</td>\n",
       "      <td>0.000000</td>\n",
       "      <td>1161.000000</td>\n",
       "      <td>10.000000</td>\n",
       "      <td>6.000000</td>\n",
       "      <td>10101.000000</td>\n",
       "      <td>0.000000</td>\n",
       "      <td>0.000000</td>\n",
       "      <td>-616.572451</td>\n",
       "    </tr>\n",
       "    <tr>\n",
       "      <th>25%</th>\n",
       "      <td>0.000000</td>\n",
       "      <td>0.000000</td>\n",
       "      <td>0.000000</td>\n",
       "      <td>0.000000</td>\n",
       "      <td>4548.250000</td>\n",
       "      <td>20.000000</td>\n",
       "      <td>17.000000</td>\n",
       "      <td>20185.250000</td>\n",
       "      <td>0.000000</td>\n",
       "      <td>0.000000</td>\n",
       "      <td>3669.258562</td>\n",
       "    </tr>\n",
       "    <tr>\n",
       "      <th>50%</th>\n",
       "      <td>0.000000</td>\n",
       "      <td>0.000000</td>\n",
       "      <td>1.000000</td>\n",
       "      <td>1.000000</td>\n",
       "      <td>8903.500000</td>\n",
       "      <td>33.000000</td>\n",
       "      <td>31.000000</td>\n",
       "      <td>35385.500000</td>\n",
       "      <td>0.000000</td>\n",
       "      <td>0.000000</td>\n",
       "      <td>5129.683060</td>\n",
       "    </tr>\n",
       "    <tr>\n",
       "      <th>75%</th>\n",
       "      <td>0.000000</td>\n",
       "      <td>0.000000</td>\n",
       "      <td>1.000000</td>\n",
       "      <td>1.000000</td>\n",
       "      <td>15154.000000</td>\n",
       "      <td>59.000000</td>\n",
       "      <td>52.000000</td>\n",
       "      <td>63562.750000</td>\n",
       "      <td>0.000000</td>\n",
       "      <td>1.000000</td>\n",
       "      <td>6279.464077</td>\n",
       "    </tr>\n",
       "    <tr>\n",
       "      <th>max</th>\n",
       "      <td>1.000000</td>\n",
       "      <td>1.000000</td>\n",
       "      <td>1.000000</td>\n",
       "      <td>1.000000</td>\n",
       "      <td>73202.000000</td>\n",
       "      <td>173.000000</td>\n",
       "      <td>183.000000</td>\n",
       "      <td>252970.000000</td>\n",
       "      <td>1.000000</td>\n",
       "      <td>1.000000</td>\n",
       "      <td>7535.963856</td>\n",
       "    </tr>\n",
       "  </tbody>\n",
       "</table>\n",
       "</div>"
      ],
      "text/plain": [
       "       Global Flag  Major Flag    SMC Flag  Commercial Flag      IT Spend  \\\n",
       "count   500.000000  500.000000  500.000000       500.000000    500.000000   \n",
       "mean      0.052000    0.116000    0.536000         0.658000  11799.978000   \n",
       "std       0.222249    0.320546    0.499202         0.474855  10195.475116   \n",
       "min       0.000000    0.000000    0.000000         0.000000   1161.000000   \n",
       "25%       0.000000    0.000000    0.000000         0.000000   4548.250000   \n",
       "50%       0.000000    0.000000    1.000000         1.000000   8903.500000   \n",
       "75%       0.000000    0.000000    1.000000         1.000000  15154.000000   \n",
       "max       1.000000    1.000000    1.000000         1.000000  73202.000000   \n",
       "\n",
       "       Employee Count    PC Count           Size  Tech Support    Discount  \\\n",
       "count      500.000000  500.000000     500.000000    500.000000  500.000000   \n",
       "mean        41.990000   37.838000   48010.992000      0.038000    0.288000   \n",
       "std         28.643862   26.854163   37369.678343      0.191388    0.453285   \n",
       "min         10.000000    6.000000   10101.000000      0.000000    0.000000   \n",
       "25%         20.000000   17.000000   20185.250000      0.000000    0.000000   \n",
       "50%         33.000000   31.000000   35385.500000      0.000000    0.000000   \n",
       "75%         59.000000   52.000000   63562.750000      0.000000    1.000000   \n",
       "max        173.000000  183.000000  252970.000000      1.000000    1.000000   \n",
       "\n",
       "           Revenue  \n",
       "count   500.000000  \n",
       "mean   4865.592306  \n",
       "std    1720.109607  \n",
       "min    -616.572451  \n",
       "25%    3669.258562  \n",
       "50%    5129.683060  \n",
       "75%    6279.464077  \n",
       "max    7535.963856  "
      ]
     },
     "execution_count": 130,
     "metadata": {},
     "output_type": "execute_result"
    }
   ],
   "source": [
    "# description of bottom 25%\n",
    "df[df['Revenue'] < 7548].describe()"
   ]
  },
  {
   "cell_type": "code",
   "execution_count": 131,
   "id": "abfa3226-1a21-4200-b17b-8cbbb899bec4",
   "metadata": {
    "tags": []
   },
   "outputs": [
    {
     "name": "stdout",
     "output_type": "stream",
     "text": [
      "Percentile of IT Spend : 33.40\n",
      "Percentile of Employee Count : 48.38\n",
      "Percentile of PC Count : 46.75\n",
      "Percentile of Size : 30.75\n"
     ]
    }
   ],
   "source": [
    "# percentiles for bottom 50%\n",
    "print('Percentile of IT Spend : {:.2f}'.format(stats.percentileofscore(df['IT Spend'], 11799.98)))\n",
    "print('Percentile of Employee Count : {:.2f}'.format(stats.percentileofscore(df['Employee Count'], 42)))\n",
    "print('Percentile of PC Count : {:.2f}'.format(stats.percentileofscore(df['PC Count'], 37.8)))\n",
    "print('Percentile of Size : {:.2f}'.format(stats.percentileofscore(df['Size'], 48011)))"
   ]
  },
  {
   "cell_type": "code",
   "execution_count": null,
   "id": "34fd01cd-f117-4d62-b63c-77e632ccae9c",
   "metadata": {},
   "outputs": [],
   "source": []
  },
  {
   "cell_type": "code",
   "execution_count": null,
   "id": "f99a96f2-c032-4725-a502-3c56bfd2d296",
   "metadata": {},
   "outputs": [],
   "source": []
  }
 ],
 "metadata": {
  "kernelspec": {
   "display_name": "Python 3 (ipykernel)",
   "language": "python",
   "name": "python3"
  },
  "language_info": {
   "codemirror_mode": {
    "name": "ipython",
    "version": 3
   },
   "file_extension": ".py",
   "mimetype": "text/x-python",
   "name": "python",
   "nbconvert_exporter": "python",
   "pygments_lexer": "ipython3",
   "version": "3.11.4"
  }
 },
 "nbformat": 4,
 "nbformat_minor": 5
}
